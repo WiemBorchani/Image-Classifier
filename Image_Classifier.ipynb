{
 "cells": [
  {
   "cell_type": "code",
   "execution_count": 2,
   "metadata": {},
   "outputs": [
    {
     "name": "stderr",
     "output_type": "stream",
     "text": [
      "Using TensorFlow backend.\n"
     ]
    }
   ],
   "source": [
    "import keras\n",
    "import numpy as np\n",
    "from keras.models import Sequential\n",
    "from keras.layers import Convolution2D, MaxPooling2D, ZeroPadding2D\n",
    "from keras.preprocessing.image import ImageDataGenerator\n",
    "from keras.layers import Activation, Dropout, Flatten, Dense\n",
    "import warnings\n",
    "warnings.filterwarnings('ignore')\n",
    "from keras.preprocessing.image import image\n",
    "import os, cv2, random\n",
    "from matplotlib import image\n",
    "from keras.preprocessing.image import img_to_array\n",
    "from keras.models import load_model\n",
    "from keras.preprocessing.image import load_img\n",
    "from keras.preprocessing.image import array_to_img\n",
    "from keras.preprocessing import image"
   ]
  },
  {
   "cell_type": "code",
   "execution_count": 3,
   "metadata": {},
   "outputs": [],
   "source": [
    "img_width, img_height = 150, 150\n",
    "train_data_dir='Image Classifier/train'\n",
    "validation_data_dir='Image Classifier/validation'"
   ]
  },
  {
   "cell_type": "code",
   "execution_count": 4,
   "metadata": {},
   "outputs": [
    {
     "name": "stdout",
     "output_type": "stream",
     "text": [
      "WARNING:tensorflow:From C:\\Users\\wiemb\\Anaconda3\\lib\\site-packages\\tensorflow\\python\\ops\\resource_variable_ops.py:435: colocate_with (from tensorflow.python.framework.ops) is deprecated and will be removed in a future version.\n",
      "Instructions for updating:\n",
      "Colocations handled automatically by placer.\n"
     ]
    }
   ],
   "source": [
    "model=Sequential()\n",
    "model.add(Convolution2D(32, 3, 3, input_shape=(img_width, img_height,3)))\n",
    "model.add(Activation('relu'))\n",
    "model.add(MaxPooling2D(pool_size=(2, 2)))\n",
    "\n",
    "model.add(Convolution2D(32, 3, 3))\n",
    "model.add(Activation('relu'))\n",
    "model.add(MaxPooling2D(pool_size=(2, 2)))\n",
    "\n",
    "model.add(Convolution2D(64, 3, 3))\n",
    "model.add(Activation('relu'))\n",
    "model.add(MaxPooling2D(pool_size=(2, 2)))\n",
    "model.add(Flatten())\n",
    "model.add(Dense(1))\n",
    "model.add(Activation('sigmoid'))"
   ]
  },
  {
   "cell_type": "code",
   "execution_count": 5,
   "metadata": {},
   "outputs": [
    {
     "name": "stdout",
     "output_type": "stream",
     "text": [
      "<keras.engine.sequential.Sequential object at 0x000001FCCDF9FF98>\n"
     ]
    }
   ],
   "source": [
    "model.compile(loss='binary_crossentropy',\n",
    "              optimizer='rmsprop',\n",
    "              metrics=['accuracy'])\n",
    "print (model)"
   ]
  },
  {
   "cell_type": "code",
   "execution_count": 326,
   "metadata": {},
   "outputs": [
    {
     "name": "stdout",
     "output_type": "stream",
     "text": [
      "Found 2032 images belonging to 2 classes.\n",
      "Found 832 images belonging to 2 classes.\n"
     ]
    }
   ],
   "source": [
    "datagen = ImageDataGenerator(rescale=1./255)\n",
    "train_generator = datagen.flow_from_directory(\n",
    "        train_data_dir,\n",
    "        target_size=(img_width, img_height),\n",
    "        batch_size=16,\n",
    "        class_mode='binary',\n",
    "        shuffle=False)\n",
    "\n",
    "validation_generator = datagen.flow_from_directory(\n",
    "        validation_data_dir,\n",
    "        target_size=(img_width, img_height),\n",
    "        batch_size=32,\n",
    "        class_mode='binary',\n",
    "        shuffle=False)\n",
    "validation_data=validation_generator\n"
   ]
  },
  {
   "cell_type": "code",
   "execution_count": 327,
   "metadata": {},
   "outputs": [
    {
     "name": "stdout",
     "output_type": "stream",
     "text": [
      "Model: \"sequential_35\"\n",
      "_________________________________________________________________\n",
      "Layer (type)                 Output Shape              Param #   \n",
      "=================================================================\n",
      "conv2d_103 (Conv2D)          (None, 148, 148, 32)      896       \n",
      "_________________________________________________________________\n",
      "activation_137 (Activation)  (None, 148, 148, 32)      0         \n",
      "_________________________________________________________________\n",
      "max_pooling2d_103 (MaxPoolin (None, 74, 74, 32)        0         \n",
      "_________________________________________________________________\n",
      "conv2d_104 (Conv2D)          (None, 72, 72, 32)        9248      \n",
      "_________________________________________________________________\n",
      "activation_138 (Activation)  (None, 72, 72, 32)        0         \n",
      "_________________________________________________________________\n",
      "max_pooling2d_104 (MaxPoolin (None, 36, 36, 32)        0         \n",
      "_________________________________________________________________\n",
      "conv2d_105 (Conv2D)          (None, 34, 34, 64)        18496     \n",
      "_________________________________________________________________\n",
      "activation_139 (Activation)  (None, 34, 34, 64)        0         \n",
      "_________________________________________________________________\n",
      "max_pooling2d_105 (MaxPoolin (None, 17, 17, 64)        0         \n",
      "_________________________________________________________________\n",
      "flatten_35 (Flatten)         (None, 18496)             0         \n",
      "_________________________________________________________________\n",
      "dense_35 (Dense)             (None, 1)                 18497     \n",
      "_________________________________________________________________\n",
      "activation_140 (Activation)  (None, 1)                 0         \n",
      "=================================================================\n",
      "Total params: 47,137\n",
      "Trainable params: 47,137\n",
      "Non-trainable params: 0\n",
      "_________________________________________________________________\n",
      "None\n"
     ]
    }
   ],
   "source": [
    "print(model.summary())"
   ]
  },
  {
   "cell_type": "code",
   "execution_count": 1,
   "metadata": {},
   "outputs": [],
   "source": [
    "nb_epoch = 100\n",
    "nb_train_samples = 2032\n",
    "nb_validation_samples = 832"
   ]
  },
  {
   "cell_type": "code",
   "execution_count": 358,
   "metadata": {},
   "outputs": [
    {
     "name": "stdout",
     "output_type": "stream",
     "text": [
      "Epoch 1/60\n",
      "127/127 [==============================] - 245s 2s/step - loss: 0.7367 - accuracy: 0.6156 - val_loss: 0.5649 - val_accuracy: 0.6959\n",
      "Epoch 2/60\n",
      "127/127 [==============================] - 242s 2s/step - loss: 0.7070 - accuracy: 0.6526 - val_loss: 0.5936 - val_accuracy: 0.6935\n",
      "Epoch 3/60\n",
      "127/127 [==============================] - 242s 2s/step - loss: 0.6401 - accuracy: 0.6737 - val_loss: 0.2918 - val_accuracy: 0.6274\n",
      "Epoch 4/60\n",
      "127/127 [==============================] - 241s 2s/step - loss: 0.6324 - accuracy: 0.6890 - val_loss: 0.3328 - val_accuracy: 0.6719\n",
      "Epoch 5/60\n",
      "127/127 [==============================] - 241s 2s/step - loss: 0.6055 - accuracy: 0.7372 - val_loss: 0.4783 - val_accuracy: 0.7296\n",
      "Epoch 6/60\n",
      "127/127 [==============================] - 242s 2s/step - loss: 0.5491 - accuracy: 0.7638 - val_loss: 0.4906 - val_accuracy: 0.7260\n",
      "Epoch 7/60\n",
      "127/127 [==============================] - 242s 2s/step - loss: 0.5169 - accuracy: 0.7628 - val_loss: 0.2989 - val_accuracy: 0.6791\n",
      "Epoch 8/60\n",
      "127/127 [==============================] - 243s 2s/step - loss: 0.4901 - accuracy: 0.7781 - val_loss: 0.4069 - val_accuracy: 0.6959\n",
      "Epoch 9/60\n",
      "127/127 [==============================] - 242s 2s/step - loss: 0.4356 - accuracy: 0.8184 - val_loss: 0.7513 - val_accuracy: 0.7115\n",
      "Epoch 10/60\n",
      "127/127 [==============================] - 242s 2s/step - loss: 0.4051 - accuracy: 0.8204 - val_loss: 0.2771 - val_accuracy: 0.6923\n",
      "Epoch 11/60\n",
      "127/127 [==============================] - 242s 2s/step - loss: 0.3702 - accuracy: 0.8337 - val_loss: 0.6749 - val_accuracy: 0.7127\n",
      "Epoch 12/60\n",
      "127/127 [==============================] - 241s 2s/step - loss: 0.3144 - accuracy: 0.8691 - val_loss: 0.4995 - val_accuracy: 0.7344\n",
      "Epoch 13/60\n",
      "127/127 [==============================] - 243s 2s/step - loss: 0.2810 - accuracy: 0.8775 - val_loss: 0.4641 - val_accuracy: 0.7296\n",
      "Epoch 14/60\n",
      "127/127 [==============================] - 241s 2s/step - loss: 0.2527 - accuracy: 0.8952 - val_loss: 0.3958 - val_accuracy: 0.6839\n",
      "Epoch 15/60\n",
      "127/127 [==============================] - 241s 2s/step - loss: 0.2110 - accuracy: 0.9301 - val_loss: 0.7889 - val_accuracy: 0.7392\n",
      "Epoch 16/60\n",
      "127/127 [==============================] - 18017s 142s/step - loss: 0.1832 - accuracy: 0.9252 - val_loss: 0.9511 - val_accuracy: 0.7404\n",
      "Epoch 17/60\n",
      "127/127 [==============================] - 243s 2s/step - loss: 0.1440 - accuracy: 0.9434 - val_loss: 1.4864 - val_accuracy: 0.7091\n",
      "Epoch 18/60\n",
      "127/127 [==============================] - 238s 2s/step - loss: 0.1298 - accuracy: 0.9469 - val_loss: 0.6934 - val_accuracy: 0.7272\n",
      "Epoch 19/60\n",
      "127/127 [==============================] - 242s 2s/step - loss: 0.1085 - accuracy: 0.9631 - val_loss: 1.0932 - val_accuracy: 0.7188\n",
      "Epoch 20/60\n",
      "127/127 [==============================] - 241s 2s/step - loss: 0.0863 - accuracy: 0.9685 - val_loss: 1.7494 - val_accuracy: 0.6911\n",
      "Epoch 21/60\n",
      "127/127 [==============================] - 239s 2s/step - loss: 0.0727 - accuracy: 0.9734 - val_loss: 1.5019 - val_accuracy: 0.7139\n",
      "Epoch 22/60\n",
      "127/127 [==============================] - 241s 2s/step - loss: 0.0669 - accuracy: 0.9769 - val_loss: 1.2955 - val_accuracy: 0.7091\n",
      "Epoch 23/60\n",
      "127/127 [==============================] - 239s 2s/step - loss: 0.0390 - accuracy: 0.9867 - val_loss: 1.6631 - val_accuracy: 0.7043\n",
      "Epoch 24/60\n",
      "127/127 [==============================] - 240s 2s/step - loss: 0.0483 - accuracy: 0.9847 - val_loss: 0.7057 - val_accuracy: 0.7019\n",
      "Epoch 25/60\n",
      "127/127 [==============================] - 239s 2s/step - loss: 0.0346 - accuracy: 0.9862 - val_loss: 1.7536 - val_accuracy: 0.7139\n",
      "Epoch 26/60\n",
      "127/127 [==============================] - 240s 2s/step - loss: 0.0274 - accuracy: 0.9916 - val_loss: 1.4045 - val_accuracy: 0.6971\n",
      "Epoch 27/60\n",
      "127/127 [==============================] - 241s 2s/step - loss: 0.0245 - accuracy: 0.9916 - val_loss: 0.9725 - val_accuracy: 0.6839\n",
      "Epoch 28/60\n",
      "127/127 [==============================] - 240s 2s/step - loss: 0.0255 - accuracy: 0.9887 - val_loss: 1.7805 - val_accuracy: 0.7103\n",
      "Epoch 29/60\n",
      "127/127 [==============================] - 240s 2s/step - loss: 0.0223 - accuracy: 0.9951 - val_loss: 1.6146 - val_accuracy: 0.7091\n",
      "Epoch 30/60\n",
      "127/127 [==============================] - 239s 2s/step - loss: 0.0265 - accuracy: 0.9902 - val_loss: 1.9094 - val_accuracy: 0.6995\n",
      "Epoch 31/60\n",
      "127/127 [==============================] - 238s 2s/step - loss: 0.0174 - accuracy: 0.9946 - val_loss: 1.9871 - val_accuracy: 0.7139\n",
      "Epoch 32/60\n",
      "127/127 [==============================] - 238s 2s/step - loss: 0.0217 - accuracy: 0.9946 - val_loss: 4.2310 - val_accuracy: 0.6791\n",
      "Epoch 33/60\n",
      "127/127 [==============================] - 237s 2s/step - loss: 0.0207 - accuracy: 0.9941 - val_loss: 1.7477 - val_accuracy: 0.7139\n",
      "Epoch 34/60\n",
      "127/127 [==============================] - 238s 2s/step - loss: 0.0246 - accuracy: 0.9926 - val_loss: 2.5118 - val_accuracy: 0.7055\n",
      "Epoch 35/60\n",
      "127/127 [==============================] - 237s 2s/step - loss: 0.0147 - accuracy: 0.9946 - val_loss: 1.5522 - val_accuracy: 0.7115\n",
      "Epoch 36/60\n",
      "127/127 [==============================] - 236s 2s/step - loss: 0.0190 - accuracy: 0.9946 - val_loss: 1.8047 - val_accuracy: 0.7091\n",
      "Epoch 37/60\n",
      "127/127 [==============================] - 237s 2s/step - loss: 0.0402 - accuracy: 0.9897 - val_loss: 2.7277 - val_accuracy: 0.7091\n",
      "Epoch 38/60\n",
      "127/127 [==============================] - 236s 2s/step - loss: 0.0276 - accuracy: 0.9936 - val_loss: 2.3460 - val_accuracy: 0.7019\n",
      "Epoch 39/60\n",
      "127/127 [==============================] - 236s 2s/step - loss: 0.0152 - accuracy: 0.9956 - val_loss: 2.9424 - val_accuracy: 0.7007\n",
      "Epoch 40/60\n",
      "127/127 [==============================] - 236s 2s/step - loss: 0.0129 - accuracy: 0.9946 - val_loss: 1.8028 - val_accuracy: 0.6959\n",
      "Epoch 41/60\n",
      "127/127 [==============================] - 236s 2s/step - loss: 0.0130 - accuracy: 0.9961 - val_loss: 2.1970 - val_accuracy: 0.6971\n",
      "Epoch 42/60\n",
      "127/127 [==============================] - 237s 2s/step - loss: 0.0092 - accuracy: 0.9980 - val_loss: 2.4879 - val_accuracy: 0.7091\n",
      "Epoch 43/60\n",
      "127/127 [==============================] - 236s 2s/step - loss: 0.0099 - accuracy: 0.9966 - val_loss: 2.9272 - val_accuracy: 0.6935\n",
      "Epoch 44/60\n",
      "127/127 [==============================] - 237s 2s/step - loss: 0.0015 - accuracy: 0.9995 - val_loss: 2.8564 - val_accuracy: 0.7091\n",
      "Epoch 45/60\n",
      "127/127 [==============================] - 236s 2s/step - loss: 0.0095 - accuracy: 0.9975 - val_loss: 1.9887 - val_accuracy: 0.7043\n",
      "Epoch 46/60\n",
      "127/127 [==============================] - 236s 2s/step - loss: 0.0076 - accuracy: 0.9970 - val_loss: 1.8703 - val_accuracy: 0.7067\n",
      "Epoch 47/60\n",
      "127/127 [==============================] - 241s 2s/step - loss: 0.0117 - accuracy: 0.9970 - val_loss: 1.5140 - val_accuracy: 0.6923\n",
      "Epoch 48/60\n",
      "127/127 [==============================] - 6196s 49s/step - loss: 0.0214 - accuracy: 0.9941 - val_loss: 3.3043 - val_accuracy: 0.6959\n",
      "Epoch 49/60\n",
      "127/127 [==============================] - 239s 2s/step - loss: 0.0050 - accuracy: 0.9980 - val_loss: 2.6464 - val_accuracy: 0.6983\n",
      "Epoch 50/60\n",
      "127/127 [==============================] - 238s 2s/step - loss: 0.0108 - accuracy: 0.9966 - val_loss: 3.6028 - val_accuracy: 0.7067\n",
      "Epoch 51/60\n",
      "127/127 [==============================] - 237s 2s/step - loss: 0.0065 - accuracy: 0.9980 - val_loss: 2.7210 - val_accuracy: 0.6851\n",
      "Epoch 52/60\n",
      "127/127 [==============================] - 239s 2s/step - loss: 0.0076 - accuracy: 0.9980 - val_loss: 2.9340 - val_accuracy: 0.6863\n",
      "Epoch 53/60\n",
      "127/127 [==============================] - 238s 2s/step - loss: 0.0105 - accuracy: 0.9961 - val_loss: 3.2314 - val_accuracy: 0.6911\n",
      "Epoch 54/60\n",
      "127/127 [==============================] - 238s 2s/step - loss: 0.0035 - accuracy: 0.9990 - val_loss: 1.9981 - val_accuracy: 0.6875\n",
      "Epoch 55/60\n",
      "127/127 [==============================] - 239s 2s/step - loss: 0.0093 - accuracy: 0.9975 - val_loss: 2.5406 - val_accuracy: 0.6971\n",
      "Epoch 56/60\n",
      "127/127 [==============================] - 238s 2s/step - loss: 0.0020 - accuracy: 0.9995 - val_loss: 3.4732 - val_accuracy: 0.6923\n",
      "Epoch 57/60\n",
      "127/127 [==============================] - 240s 2s/step - loss: 0.0035 - accuracy: 0.9995 - val_loss: 1.4573 - val_accuracy: 0.6899\n"
     ]
    },
    {
     "name": "stdout",
     "output_type": "stream",
     "text": [
      "Epoch 58/60\n",
      "127/127 [==============================] - 238s 2s/step - loss: 0.0081 - accuracy: 0.9966 - val_loss: 3.3945 - val_accuracy: 0.6983\n",
      "Epoch 59/60\n",
      "127/127 [==============================] - 238s 2s/step - loss: 0.0178 - accuracy: 0.9966 - val_loss: 3.2965 - val_accuracy: 0.6995\n",
      "Epoch 60/60\n",
      "127/127 [==============================] - 240s 2s/step - loss: 0.0118 - accuracy: 0.9975 - val_loss: 3.6494 - val_accuracy: 0.6971\n"
     ]
    },
    {
     "data": {
      "text/plain": [
       "<keras.callbacks.callbacks.History at 0x208dd9340b8>"
      ]
     },
     "execution_count": 358,
     "metadata": {},
     "output_type": "execute_result"
    }
   ],
   "source": [
    "model.fit_generator(\n",
    "        train_generator,\n",
    "        samples_per_epoch=nb_train_samples,\n",
    "        nb_epoch=nb_epoch,\n",
    "        validation_data=validation_generator,\n",
    "        nb_val_samples=nb_validation_samples)"
   ]
  },
  {
   "cell_type": "code",
   "execution_count": 359,
   "metadata": {},
   "outputs": [
    {
     "name": "stdout",
     "output_type": "stream",
     "text": [
      "Found 7 images belonging to 2 classes.\n"
     ]
    }
   ],
   "source": [
    "img_dir= 'C:/Users/wiemb/Desktop/CV/MLlearn/project/Untitled Folder/test'\n",
    "\n",
    "datagen = ImageDataGenerator(rescale=1./255)\n",
    "test_generator = datagen.flow_from_directory(\n",
    "       img_dir,\n",
    "        target_size=(img_width, img_height),\n",
    "        batch_size=16,\n",
    "        class_mode='binary')"
   ]
  },
  {
   "cell_type": "code",
   "execution_count": 360,
   "metadata": {},
   "outputs": [
    {
     "name": "stdout",
     "output_type": "stream",
     "text": [
      "[[9.9972016e-01]\n",
      " [2.6605578e-09]\n",
      " [1.9194219e-21]\n",
      " [2.7082290e-17]\n",
      " [9.9999857e-01]\n",
      " [1.9666022e-12]\n",
      " [9.6434259e-01]]\n",
      "1.It is cat\n",
      "2.It is cat\n",
      "3.It is cat\n",
      "4.It is cat\n",
      "5.It is cat\n",
      "6.It is cat\n",
      "7.It is cat\n"
     ]
    }
   ],
   "source": [
    "prediction = model.predict(test_generator)\n",
    "\n",
    "print(prediction)\n",
    "\n",
    "i = 1\n",
    "\n",
    "#for things in prediction:  \n",
    "    #if(things == 0):\n",
    "        #print('%d.It is dog'%(i))\n",
    "    #else:\n",
    "       # print('%d.It is cat'%(i))\n",
    "   # i = i + 1"
   ]
  },
  {
   "cell_type": "code",
   "execution_count": null,
   "metadata": {},
   "outputs": [],
   "source": []
  },
  {
   "cell_type": "code",
   "execution_count": null,
   "metadata": {},
   "outputs": [],
   "source": []
  }
 ],
 "metadata": {
  "kernelspec": {
   "display_name": "Python 3",
   "language": "python",
   "name": "python3"
  },
  "language_info": {
   "codemirror_mode": {
    "name": "ipython",
    "version": 3
   },
   "file_extension": ".py",
   "mimetype": "text/x-python",
   "name": "python",
   "nbconvert_exporter": "python",
   "pygments_lexer": "ipython3",
   "version": "3.7.3"
  }
 },
 "nbformat": 4,
 "nbformat_minor": 2
}
